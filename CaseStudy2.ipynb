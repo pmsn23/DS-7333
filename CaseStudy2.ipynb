{
 "cells": [
  {
   "cell_type": "code",
   "execution_count": 1,
   "metadata": {},
   "outputs": [],
   "source": [
    "import pandas as pd\n",
    "import requests\n",
    "import numpy as np\n",
    "import datetime\n",
    "import seaborn as sns\n",
    "import matplotlib.pyplot as plt"
   ]
  },
  {
   "cell_type": "code",
   "execution_count": 39,
   "metadata": {},
   "outputs": [],
   "source": [
    "offdata = requests.get('http://rdatasciencecases.org/Data/offline.final.trace.txt')\n",
    "ondata = requests.get('http://rdatasciencecases.org/Data/online.final.trace.txt')"
   ]
  },
  {
   "cell_type": "code",
   "execution_count": 40,
   "metadata": {},
   "outputs": [],
   "source": [
    "def eda_trace(data):\n",
    "    \n",
    "    data = data.text.split('\\n')\n",
    "    data = list(filter(lambda m: (not m.startswith('#')) and (not len(m) == 0), data))\n",
    "    data = [row.split(';') for row in data]\n",
    "    \n",
    "    mac_keep = eda_MAC(data)\n",
    "    print(mac_keep)\n",
    "    mac = [val for (val, key) in mac_keep]\n",
    "    # Keep only the top7 mac address and remove the rest.\n",
    "    count=0\n",
    "    for row in data:\n",
    "        for macId in row[4:]:\n",
    "            macs = macId.split(\"=\")[0]\n",
    "            if macs in mac:\n",
    "                continue\n",
    "            else:\n",
    "                data[count].remove(macId)\n",
    "        count += 1\n",
    "    \n",
    "    df = pd.DataFrame(data)\n",
    "    \n",
    "    #cols = [m.split(\"=\")[0] for m in df.iloc[1][:4].values]\n",
    "    mac_names = ['MAC_'+str(m) for m in range(len(df.iloc[1][4:].values))]\n",
    "    cols = [\"TimeStamp\", \"MACofScanDevice\", \"RealPosition\",\"Orientation\"]\n",
    "    col_names = cols + mac_names\n",
    "    \n",
    "    cols = dict(list(zip(df.columns.values, col_names)))\n",
    "    df.rename(columns=cols, inplace=True)\n",
    "    \n",
    "    df[\"TimeStamp\"] = df[\"TimeStamp\"].map(lambda x: x.lstrip('t='))\n",
    "    df[\"MACofScanDevice\"] = df[\"MACofScanDevice\"].map(lambda x: x.lstrip('id='))\n",
    "    df[\"RealPosition\"] = df[\"RealPosition\"].map(lambda x: x.lstrip('pos='))\n",
    "    df[\"Orientation\"] = df[\"Orientation\"].map(lambda x: x.lstrip('degree='))\n",
    "    \n",
    "    df['Orientation'] = pd.to_numeric(df.Orientation, errors='coerce', downcast='float')\n",
    "    df['TimeStamp'] = df['TimeStamp'].astype(int)\n",
    "    df[\"TimeStamp\"] = df[\"TimeStamp\"]/1000\n",
    "    df['TimeStamp'] = df['TimeStamp'].astype('datetime64[ns]')\n",
    "    \n",
    "    # Create list of position x, y & z.\n",
    "    p = {}\n",
    "    for i, j in enumerate(df.RealPosition.values):\n",
    "        if j != None:\n",
    "            temp = j.split(\",\")\n",
    "            p[i] = [float(y) for y in temp]\n",
    "        else:\n",
    "            p[i] = None\n",
    "\n",
    "    pos = pd.Series(p)\n",
    "    df['RealPosition'] = pos\n",
    "    \n",
    "    # Create MAC Dictionary with Signal, Channel and Type.\n",
    "    for col in df.iloc[:,4:].columns:\n",
    "        m = {}\n",
    "        colString = '{}'.format(col)\n",
    "        for i, j in enumerate(df[colString].values):\n",
    "            if j != None:\n",
    "                temp = j.split(\"=\")\n",
    "                macId = temp[0]\n",
    "                coords = [int(y) for y in temp[1].split(\",\")]\n",
    "                # we drop all records for adhoc measurements and remove the type variable from our data frame\n",
    "                # Refer Data Science in R by Deborah Nolan & Duncan Temple Lang\n",
    "                if (coords[-1] == 3):\n",
    "                    m[i] = {macId: [coords[:2], coords[-1]]}\n",
    "                else:\n",
    "                    m[i] = None\n",
    "            else:\n",
    "                m[i] = None\n",
    "    \n",
    "        df[colString] = pd.Series(m)\n",
    "    \n",
    "    df[\"MACofScanDevice\"] = df[\"MACofScanDevice\"].astype('category')\n",
    "    # There is only one hand-held device used to take the measurement, can be discarded from the dataframe\n",
    "    pd.value_counts(df[\"MACofScanDevice\"].values, sort=False)\n",
    "\n",
    "    df = df.drop(['MACofScanDevice'], axis=1)\n",
    "    \n",
    "    df['Angle'] = df.apply (lambda row: label_angle(row), axis=1)\n",
    "    \n",
    "    # Angle z is zero since all the measurement are from ground\n",
    "    for key, val in enumerate(df[\"RealPosition\"]):\n",
    "        del val[2]\n",
    "        \n",
    "    return data, df"
   ]
  },
  {
   "cell_type": "code",
   "execution_count": 41,
   "metadata": {},
   "outputs": [],
   "source": [
    "def eda_MAC (data):\n",
    "    macs = set(mac.split('=')[0].lower() for row in data for mac in row[4:])\n",
    "    print('There are %d unique MACs in the dataset' % len(macs))\n",
    "    mac_counts = []\n",
    "    for mac in macs:\n",
    "        count = 0\n",
    "        for row in data:\n",
    "            for macId in row[4:]:\n",
    "                macId = macId.split(\"=\")[0]\n",
    "                if mac in macId:\n",
    "                    count += 1\n",
    "        mac_counts.append((mac, count))\n",
    "    \n",
    "    mac_counts = sorted(mac_counts, key=lambda x: x[1], reverse=True)\n",
    "    print(mac_counts)\n",
    "    mac_keep = mac_counts[:7]\n",
    "    return mac_keep"
   ]
  },
  {
   "cell_type": "markdown",
   "metadata": {},
   "source": [
    "There are 21 MAC address where as from the document there are only 6 access points. It could be due to the points are not part of the testing area.\n",
    "\n",
    "There are potential signals recorded at 166 grid points, 8 orientations and 110 replications (166x8x110 = 146080). \n",
    "\n",
    "Clearly the last six MAC addresses are not near the testing area or were only working/active for a short time during the measurement process because their counts are very low. \n",
    "\n",
    "We have decided to keep the top 7 devices. Note: Mac address with 103887 recording starts with 02. Decided not to include for our analysis based on the findings from text book"
   ]
  },
  {
   "cell_type": "code",
   "execution_count": 42,
   "metadata": {},
   "outputs": [],
   "source": [
    "def label_angle (row):\n",
    "    if row['Orientation'] <= 45 :\n",
    "        return 45\n",
    "    if row['Orientation'] >45 and row['Orientation'] <=90 :\n",
    "        return 90\n",
    "    if row['Orientation'] >90 and row['Orientation'] <=135 :\n",
    "        return 135\n",
    "    if row['Orientation'] >135 and row['Orientation'] <=180 :\n",
    "        return 180\n",
    "    if row['Orientation'] >180 and row['Orientation'] <=225 :\n",
    "        return 225\n",
    "    if row['Orientation'] >225 and row['Orientation'] <=270 :\n",
    "        return 270\n",
    "    if row['Orientation'] >270 and row['Orientation'] <=315 :\n",
    "        return 315\n",
    "    if row['Orientation'] >315 :\n",
    "        return 360\n",
    "    return 45"
   ]
  },
  {
   "cell_type": "code",
   "execution_count": 43,
   "metadata": {},
   "outputs": [
    {
     "name": "stdout",
     "output_type": "stream",
     "text": [
      "There are 21 unique MACs in the dataset\n",
      "[('00:0f:a3:39:e1:c0', 145862), ('00:0f:a3:39:dd:cd', 145619), ('00:14:bf:b1:97:8a', 132962), ('00:14:bf:3b:c7:c6', 126529), ('00:14:bf:b1:97:90', 122315), ('00:14:bf:b1:97:8d', 121325), ('00:14:bf:b1:97:81', 120339), ('02:00:42:55:31:00', 103887), ('02:64:fb:68:52:e6', 50852), ('00:0f:a3:39:e0:4b', 43508), ('02:2e:58:22:f1:ac', 25112), ('00:0f:a3:39:e2:10', 19162), ('02:37:fd:3b:54:b5', 8732), ('02:b7:00:bb:a9:35', 7602), ('02:5c:e0:50:49:de', 6997), ('00:04:0e:5c:23:fc', 418), ('00:30:bd:f8:7f:c5', 301), ('00:e0:63:82:8b:a9', 103), ('02:42:1c:4e:b5:c0', 1), ('02:0a:3d:06:94:88', 1), ('02:4f:99:43:30:cd', 1)]\n",
      "[('00:0f:a3:39:e1:c0', 145862), ('00:0f:a3:39:dd:cd', 145619), ('00:14:bf:b1:97:8a', 132962), ('00:14:bf:3b:c7:c6', 126529), ('00:14:bf:b1:97:90', 122315), ('00:14:bf:b1:97:8d', 121325), ('00:14:bf:b1:97:81', 120339)]\n",
      "There are 14 unique MACs in the dataset\n",
      "[('00:0f:a3:39:dd:cd', 6598), ('00:0f:a3:39:e1:c0', 6561), ('00:14:bf:b1:97:8a', 6171), ('00:14:bf:b1:97:90', 5648), ('00:14:bf:3b:c7:c6', 5573), ('00:14:bf:b1:97:8d', 5450), ('00:14:bf:b1:97:81', 5375), ('02:00:42:55:31:00', 5044), ('02:a3:c5:af:6c:21', 2611), ('00:0f:a3:39:e0:4b', 1785), ('02:64:fb:68:52:e6', 1705), ('00:0f:a3:39:e2:10', 688), ('02:b7:00:bb:a9:35', 86), ('00:04:0e:5c:23:fc', 8)]\n",
      "[('00:0f:a3:39:dd:cd', 6598), ('00:0f:a3:39:e1:c0', 6561), ('00:14:bf:b1:97:8a', 6171), ('00:14:bf:b1:97:90', 5648), ('00:14:bf:3b:c7:c6', 5573), ('00:14:bf:b1:97:8d', 5450), ('00:14:bf:b1:97:81', 5375)]\n"
     ]
    }
   ],
   "source": [
    "offdata, offline = eda_trace(offdata)\n",
    "ondata, online = eda_trace(ondata)"
   ]
  },
  {
   "cell_type": "code",
   "execution_count": 7,
   "metadata": {},
   "outputs": [
    {
     "data": {
      "text/html": [
       "<div>\n",
       "<style scoped>\n",
       "    .dataframe tbody tr th:only-of-type {\n",
       "        vertical-align: middle;\n",
       "    }\n",
       "\n",
       "    .dataframe tbody tr th {\n",
       "        vertical-align: top;\n",
       "    }\n",
       "\n",
       "    .dataframe thead th {\n",
       "        text-align: right;\n",
       "    }\n",
       "</style>\n",
       "<table border=\"1\" class=\"dataframe\">\n",
       "  <thead>\n",
       "    <tr style=\"text-align: right;\">\n",
       "      <th></th>\n",
       "      <th>TimeStamp</th>\n",
       "      <th>RealPosition</th>\n",
       "      <th>Orientation</th>\n",
       "      <th>MAC_0</th>\n",
       "      <th>MAC_1</th>\n",
       "      <th>MAC_2</th>\n",
       "      <th>MAC_3</th>\n",
       "      <th>MAC_4</th>\n",
       "      <th>MAC_5</th>\n",
       "      <th>MAC_6</th>\n",
       "      <th>MAC_7</th>\n",
       "      <th>MAC_8</th>\n",
       "      <th>MAC_9</th>\n",
       "      <th>MAC_10</th>\n",
       "      <th>MAC_11</th>\n",
       "      <th>MAC_12</th>\n",
       "      <th>MAC_13</th>\n",
       "      <th>Angle</th>\n",
       "    </tr>\n",
       "  </thead>\n",
       "  <tbody>\n",
       "    <tr>\n",
       "      <th>146075</th>\n",
       "      <td>1970-01-01 00:00:01.141936869</td>\n",
       "      <td>[20.0, 8.0]</td>\n",
       "      <td>315.700012</td>\n",
       "      <td>{'00:0f:a3:39:e1:c0': [[-51, 2462000000], 3]}</td>\n",
       "      <td>{'00:14:bf:b1:97:8d': [[-56, 2442000000], 3]}</td>\n",
       "      <td>{'00:14:bf:b1:97:8a': [[-60, 2437000000], 3]}</td>\n",
       "      <td>{'00:14:bf:b1:97:90': [[-69, 2427000000], 3]}</td>\n",
       "      <td>{'00:0f:a3:39:dd:cd': [[-76, 2412000000], 3]}</td>\n",
       "      <td>None</td>\n",
       "      <td>None</td>\n",
       "      <td>None</td>\n",
       "      <td>None</td>\n",
       "      <td>None</td>\n",
       "      <td>None</td>\n",
       "      <td>None</td>\n",
       "      <td>None</td>\n",
       "      <td>None</td>\n",
       "      <td>360</td>\n",
       "    </tr>\n",
       "    <tr>\n",
       "      <th>146076</th>\n",
       "      <td>1970-01-01 00:00:01.141936869</td>\n",
       "      <td>[20.0, 8.0]</td>\n",
       "      <td>315.700012</td>\n",
       "      <td>{'00:0f:a3:39:e1:c0': [[-53, 2462000000], 3]}</td>\n",
       "      <td>{'00:14:bf:3b:c7:c6': [[-52, 2432000000], 3]}</td>\n",
       "      <td>{'00:14:bf:b1:97:8d': [[-62, 2442000000], 3]}</td>\n",
       "      <td>{'00:14:bf:b1:97:81': [[-58, 2422000000], 3]}</td>\n",
       "      <td>{'00:14:bf:b1:97:8a': [[-61, 2437000000], 3]}</td>\n",
       "      <td>{'00:0f:a3:39:dd:cd': [[-77, 2412000000], 3]}</td>\n",
       "      <td>None</td>\n",
       "      <td>None</td>\n",
       "      <td>None</td>\n",
       "      <td>None</td>\n",
       "      <td>None</td>\n",
       "      <td>None</td>\n",
       "      <td>None</td>\n",
       "      <td>None</td>\n",
       "      <td>360</td>\n",
       "    </tr>\n",
       "    <tr>\n",
       "      <th>146077</th>\n",
       "      <td>1970-01-01 00:00:01.141936869</td>\n",
       "      <td>[20.0, 8.0]</td>\n",
       "      <td>315.700012</td>\n",
       "      <td>{'00:0f:a3:39:e1:c0': [[-54, 2462000000], 3]}</td>\n",
       "      <td>{'00:14:bf:3b:c7:c6': [[-58, 2432000000], 3]}</td>\n",
       "      <td>{'00:14:bf:b1:97:8d': [[-56, 2442000000], 3]}</td>\n",
       "      <td>{'00:14:bf:b1:97:8a': [[-60, 2437000000], 3]}</td>\n",
       "      <td>{'00:14:bf:b1:97:90': [[-69, 2427000000], 3]}</td>\n",
       "      <td>{'00:0f:a3:39:dd:cd': [[-77, 2412000000], 3]}</td>\n",
       "      <td>{'00:14:bf:b1:97:81': [[-62, 2422000000], 3]}</td>\n",
       "      <td>None</td>\n",
       "      <td>None</td>\n",
       "      <td>None</td>\n",
       "      <td>None</td>\n",
       "      <td>None</td>\n",
       "      <td>None</td>\n",
       "      <td>None</td>\n",
       "      <td>360</td>\n",
       "    </tr>\n",
       "    <tr>\n",
       "      <th>146078</th>\n",
       "      <td>1970-01-01 00:00:01.141936870</td>\n",
       "      <td>[20.0, 8.0]</td>\n",
       "      <td>315.700012</td>\n",
       "      <td>{'00:14:bf:3b:c7:c6': [[-51, 2432000000], 3]}</td>\n",
       "      <td>{'00:0f:a3:39:e1:c0': [[-53, 2462000000], 3]}</td>\n",
       "      <td>{'00:14:bf:b1:97:8a': [[-61, 2437000000], 3]}</td>\n",
       "      <td>{'00:14:bf:b1:97:81': [[-60, 2422000000], 3]}</td>\n",
       "      <td>{'00:14:bf:b1:97:8d': [[-62, 2442000000], 3]}</td>\n",
       "      <td>{'00:0f:a3:39:dd:cd': [[-77, 2412000000], 3]}</td>\n",
       "      <td>None</td>\n",
       "      <td>None</td>\n",
       "      <td>None</td>\n",
       "      <td>None</td>\n",
       "      <td>None</td>\n",
       "      <td>None</td>\n",
       "      <td>None</td>\n",
       "      <td>None</td>\n",
       "      <td>360</td>\n",
       "    </tr>\n",
       "    <tr>\n",
       "      <th>146079</th>\n",
       "      <td>1970-01-01 00:00:01.141936870</td>\n",
       "      <td>[20.0, 8.0]</td>\n",
       "      <td>315.700012</td>\n",
       "      <td>{'00:14:bf:3b:c7:c6': [[-56, 2432000000], 3]}</td>\n",
       "      <td>{'00:0f:a3:39:e1:c0': [[-53, 2462000000], 3]}</td>\n",
       "      <td>{'00:14:bf:b1:97:8d': [[-61, 2442000000], 3]}</td>\n",
       "      <td>{'00:14:bf:b1:97:8a': [[-60, 2437000000], 3]}</td>\n",
       "      <td>{'00:14:bf:b1:97:81': [[-60, 2422000000], 3]}</td>\n",
       "      <td>{'00:14:bf:b1:97:90': [[-68, 2427000000], 3]}</td>\n",
       "      <td>{'00:0f:a3:39:dd:cd': [[-76, 2412000000], 3]}</td>\n",
       "      <td>None</td>\n",
       "      <td>None</td>\n",
       "      <td>None</td>\n",
       "      <td>None</td>\n",
       "      <td>None</td>\n",
       "      <td>None</td>\n",
       "      <td>None</td>\n",
       "      <td>360</td>\n",
       "    </tr>\n",
       "  </tbody>\n",
       "</table>\n",
       "</div>"
      ],
      "text/plain": [
       "                           TimeStamp RealPosition  Orientation  \\\n",
       "146075 1970-01-01 00:00:01.141936869  [20.0, 8.0]   315.700012   \n",
       "146076 1970-01-01 00:00:01.141936869  [20.0, 8.0]   315.700012   \n",
       "146077 1970-01-01 00:00:01.141936869  [20.0, 8.0]   315.700012   \n",
       "146078 1970-01-01 00:00:01.141936870  [20.0, 8.0]   315.700012   \n",
       "146079 1970-01-01 00:00:01.141936870  [20.0, 8.0]   315.700012   \n",
       "\n",
       "                                                MAC_0  \\\n",
       "146075  {'00:0f:a3:39:e1:c0': [[-51, 2462000000], 3]}   \n",
       "146076  {'00:0f:a3:39:e1:c0': [[-53, 2462000000], 3]}   \n",
       "146077  {'00:0f:a3:39:e1:c0': [[-54, 2462000000], 3]}   \n",
       "146078  {'00:14:bf:3b:c7:c6': [[-51, 2432000000], 3]}   \n",
       "146079  {'00:14:bf:3b:c7:c6': [[-56, 2432000000], 3]}   \n",
       "\n",
       "                                                MAC_1  \\\n",
       "146075  {'00:14:bf:b1:97:8d': [[-56, 2442000000], 3]}   \n",
       "146076  {'00:14:bf:3b:c7:c6': [[-52, 2432000000], 3]}   \n",
       "146077  {'00:14:bf:3b:c7:c6': [[-58, 2432000000], 3]}   \n",
       "146078  {'00:0f:a3:39:e1:c0': [[-53, 2462000000], 3]}   \n",
       "146079  {'00:0f:a3:39:e1:c0': [[-53, 2462000000], 3]}   \n",
       "\n",
       "                                                MAC_2  \\\n",
       "146075  {'00:14:bf:b1:97:8a': [[-60, 2437000000], 3]}   \n",
       "146076  {'00:14:bf:b1:97:8d': [[-62, 2442000000], 3]}   \n",
       "146077  {'00:14:bf:b1:97:8d': [[-56, 2442000000], 3]}   \n",
       "146078  {'00:14:bf:b1:97:8a': [[-61, 2437000000], 3]}   \n",
       "146079  {'00:14:bf:b1:97:8d': [[-61, 2442000000], 3]}   \n",
       "\n",
       "                                                MAC_3  \\\n",
       "146075  {'00:14:bf:b1:97:90': [[-69, 2427000000], 3]}   \n",
       "146076  {'00:14:bf:b1:97:81': [[-58, 2422000000], 3]}   \n",
       "146077  {'00:14:bf:b1:97:8a': [[-60, 2437000000], 3]}   \n",
       "146078  {'00:14:bf:b1:97:81': [[-60, 2422000000], 3]}   \n",
       "146079  {'00:14:bf:b1:97:8a': [[-60, 2437000000], 3]}   \n",
       "\n",
       "                                                MAC_4  \\\n",
       "146075  {'00:0f:a3:39:dd:cd': [[-76, 2412000000], 3]}   \n",
       "146076  {'00:14:bf:b1:97:8a': [[-61, 2437000000], 3]}   \n",
       "146077  {'00:14:bf:b1:97:90': [[-69, 2427000000], 3]}   \n",
       "146078  {'00:14:bf:b1:97:8d': [[-62, 2442000000], 3]}   \n",
       "146079  {'00:14:bf:b1:97:81': [[-60, 2422000000], 3]}   \n",
       "\n",
       "                                                MAC_5  \\\n",
       "146075                                           None   \n",
       "146076  {'00:0f:a3:39:dd:cd': [[-77, 2412000000], 3]}   \n",
       "146077  {'00:0f:a3:39:dd:cd': [[-77, 2412000000], 3]}   \n",
       "146078  {'00:0f:a3:39:dd:cd': [[-77, 2412000000], 3]}   \n",
       "146079  {'00:14:bf:b1:97:90': [[-68, 2427000000], 3]}   \n",
       "\n",
       "                                                MAC_6 MAC_7 MAC_8 MAC_9  \\\n",
       "146075                                           None  None  None  None   \n",
       "146076                                           None  None  None  None   \n",
       "146077  {'00:14:bf:b1:97:81': [[-62, 2422000000], 3]}  None  None  None   \n",
       "146078                                           None  None  None  None   \n",
       "146079  {'00:0f:a3:39:dd:cd': [[-76, 2412000000], 3]}  None  None  None   \n",
       "\n",
       "       MAC_10 MAC_11 MAC_12 MAC_13  Angle  \n",
       "146075   None   None   None   None    360  \n",
       "146076   None   None   None   None    360  \n",
       "146077   None   None   None   None    360  \n",
       "146078   None   None   None   None    360  \n",
       "146079   None   None   None   None    360  "
      ]
     },
     "execution_count": 7,
     "metadata": {},
     "output_type": "execute_result"
    }
   ],
   "source": [
    "offline.tail()"
   ]
  },
  {
   "cell_type": "code",
   "execution_count": 8,
   "metadata": {},
   "outputs": [
    {
     "name": "stdout",
     "output_type": "stream",
     "text": [
      "<class 'pandas.core.frame.DataFrame'>\n",
      "RangeIndex: 146080 entries, 0 to 146079\n",
      "Data columns (total 18 columns):\n",
      "TimeStamp       146080 non-null datetime64[ns]\n",
      "RealPosition    146080 non-null object\n",
      "Orientation     146080 non-null float32\n",
      "MAC_0           146074 non-null object\n",
      "MAC_1           146040 non-null object\n",
      "MAC_2           145991 non-null object\n",
      "MAC_3           145242 non-null object\n",
      "MAC_4           139301 non-null object\n",
      "MAC_5           115221 non-null object\n",
      "MAC_6           63091 non-null object\n",
      "MAC_7           11870 non-null object\n",
      "MAC_8           1775 non-null object\n",
      "MAC_9           291 non-null object\n",
      "MAC_10          44 non-null object\n",
      "MAC_11          7 non-null object\n",
      "MAC_12          3 non-null object\n",
      "MAC_13          1 non-null object\n",
      "Angle           146080 non-null int64\n",
      "dtypes: datetime64[ns](1), float32(1), int64(1), object(15)\n",
      "memory usage: 19.5+ MB\n"
     ]
    }
   ],
   "source": [
    "offline.info()"
   ]
  },
  {
   "cell_type": "code",
   "execution_count": 9,
   "metadata": {},
   "outputs": [
    {
     "name": "stdout",
     "output_type": "stream",
     "text": [
      "<class 'pandas.core.frame.DataFrame'>\n",
      "RangeIndex: 6592 entries, 0 to 6591\n",
      "Data columns (total 19 columns):\n",
      "TimeStamp       6592 non-null datetime64[ns]\n",
      "RealPosition    6592 non-null object\n",
      "Orientation     6592 non-null float32\n",
      "MAC_0           6592 non-null object\n",
      "MAC_1           6571 non-null object\n",
      "MAC_2           6570 non-null object\n",
      "MAC_3           6530 non-null object\n",
      "MAC_4           6266 non-null object\n",
      "MAC_5           5163 non-null object\n",
      "MAC_6           2897 non-null object\n",
      "MAC_7           676 non-null object\n",
      "MAC_8           92 non-null object\n",
      "MAC_9           13 non-null object\n",
      "MAC_10          2 non-null object\n",
      "MAC_11          1 non-null object\n",
      "MAC_12          1 non-null object\n",
      "MAC_13          1 non-null object\n",
      "MAC_14          1 non-null object\n",
      "Angle           6592 non-null int64\n",
      "dtypes: datetime64[ns](1), float32(1), int64(1), object(16)\n",
      "memory usage: 952.8+ KB\n"
     ]
    }
   ],
   "source": [
    "online.info()"
   ]
  },
  {
   "cell_type": "code",
   "execution_count": 32,
   "metadata": {},
   "outputs": [
    {
     "data": {
      "text/plain": [
       "Text(0,0.5,'Emprical CDF')"
      ]
     },
     "execution_count": 32,
     "metadata": {},
     "output_type": "execute_result"
    },
    {
     "data": {
      "image/png": "[encoded data removed]",
      "text/plain": [
       "<Figure size 432x288 with 1 Axes>"
      ]
     },
     "metadata": {
      "needs_background": "light"
     },
     "output_type": "display_data"
    }
   ],
   "source": [
    "offline.Orientation.hist(cumulative=True, histtype='step', bins=10)\n",
    "plt.xlabel('Orientation')\n",
    "plt.ylabel('Emprical CDF')"
   ]
  },
  {
   "cell_type": "code",
   "execution_count": 11,
   "metadata": {},
   "outputs": [
    {
     "data": {
      "text/plain": [
       "<matplotlib.axes._subplots.AxesSubplot at 0x11aae3a90>"
      ]
     },
     "execution_count": 11,
     "metadata": {},
     "output_type": "execute_result"
    },
    {
     "data": {
      "image/png": "[encoded data removed]",
      "text/plain": [
       "<Figure size 432x288 with 1 Axes>"
      ]
     },
     "metadata": {
      "needs_background": "light"
     },
     "output_type": "display_data"
    }
   ],
   "source": [
    "online.Orientation.hist(cumulative=True, histtype='step', bins=10)"
   ]
  },
  {
   "cell_type": "code",
   "execution_count": 12,
   "metadata": {},
   "outputs": [
    {
     "data": {
      "text/plain": [
       "135    19833\n",
       "270    16540\n",
       "45     20101\n",
       "180    16745\n",
       "315    18871\n",
       "90     17794\n",
       "225    19849\n",
       "360    16347\n",
       "dtype: int64"
      ]
     },
     "execution_count": 12,
     "metadata": {},
     "output_type": "execute_result"
    }
   ],
   "source": [
    "pd.value_counts(offline[\"Angle\"].values, sort=False)"
   ]
  },
  {
   "cell_type": "code",
   "execution_count": 33,
   "metadata": {},
   "outputs": [
    {
     "data": {
      "text/plain": [
       "Text(0,0.5,'Orientation')"
      ]
     },
     "execution_count": 33,
     "metadata": {},
     "output_type": "execute_result"
    },
    {
     "data": {
      "image/png": "[encoded data removed]",
      "text/plain": [
       "<Figure size 432x288 with 1 Axes>"
      ]
     },
     "metadata": {
      "needs_background": "light"
     },
     "output_type": "display_data"
    }
   ],
   "source": [
    "ax = sns.boxplot(x=\"Angle\", y=\"Orientation\", data=offline, palette=\"Set2\")\n",
    "plt.xlabel('Nearest 45 degree angle')\n",
    "plt.ylabel('Orientation')"
   ]
  },
  {
   "cell_type": "code",
   "execution_count": 14,
   "metadata": {},
   "outputs": [
    {
     "data": {
      "image/png": "[encoded data removed]",
      "text/plain": [
       "<Figure size 432x288 with 1 Axes>"
      ]
     },
     "metadata": {
      "needs_background": "light"
     },
     "output_type": "display_data"
    }
   ],
   "source": [
    "ax = sns.boxplot(x=\"Angle\", y=\"Orientation\", data=online, palette=\"Set2\")"
   ]
  },
  {
   "cell_type": "code",
   "execution_count": 35,
   "metadata": {},
   "outputs": [
    {
     "name": "stdout",
     "output_type": "stream",
     "text": [
      "There are 7 unique MACs in the dataset\n"
     ]
    }
   ],
   "source": [
    "macs = set(mac.split('=')[0].lower() for row in offdata for mac in row[4:])\n",
    "print('There are %d unique MACs in the dataset' % len(macs))"
   ]
  },
  {
   "cell_type": "code",
   "execution_count": 16,
   "metadata": {},
   "outputs": [
    {
     "name": "stdout",
     "output_type": "stream",
     "text": [
      "There are 7 unique MACs in the dataset\n"
     ]
    }
   ],
   "source": [
    "mac_keep = eda_MAC(offdata)"
   ]
  },
  {
   "cell_type": "code",
   "execution_count": 17,
   "metadata": {},
   "outputs": [],
   "source": [
    "mac = [val for (val, key) in mac_keep]"
   ]
  },
  {
   "cell_type": "code",
   "execution_count": 18,
   "metadata": {},
   "outputs": [
    {
     "data": {
      "text/plain": [
       "['00:0f:a3:39:e1:c0',\n",
       " '00:0f:a3:39:dd:cd',\n",
       " '00:14:bf:b1:97:8a',\n",
       " '00:14:bf:3b:c7:c6',\n",
       " '00:14:bf:b1:97:90',\n",
       " '00:14:bf:b1:97:8d',\n",
       " '00:14:bf:b1:97:81']"
      ]
     },
     "execution_count": 18,
     "metadata": {},
     "output_type": "execute_result"
    }
   ],
   "source": [
    "mac"
   ]
  },
  {
   "cell_type": "code",
   "execution_count": 19,
   "metadata": {},
   "outputs": [
    {
     "data": {
      "text/plain": [
       "<matplotlib.collections.PathCollection at 0x11e234da0>"
      ]
     },
     "execution_count": 19,
     "metadata": {},
     "output_type": "execute_result"
    },
    {
     "data": {
      "image/png": "[encoded data removed]",
      "text/plain": [
       "<Figure size 432x288 with 1 Axes>"
      ]
     },
     "metadata": {
      "needs_background": "light"
     },
     "output_type": "display_data"
    }
   ],
   "source": [
    "plt.scatter(offline['RealPosition'].str[0], offline['RealPosition'].str[1], marker='o', color='mediumvioletred')"
   ]
  },
  {
   "cell_type": "code",
   "execution_count": 22,
   "metadata": {},
   "outputs": [
    {
     "data": {
      "text/html": [
       "<div>\n",
       "<style scoped>\n",
       "    .dataframe tbody tr th:only-of-type {\n",
       "        vertical-align: middle;\n",
       "    }\n",
       "\n",
       "    .dataframe tbody tr th {\n",
       "        vertical-align: top;\n",
       "    }\n",
       "\n",
       "    .dataframe thead th {\n",
       "        text-align: right;\n",
       "    }\n",
       "</style>\n",
       "<table border=\"1\" class=\"dataframe\">\n",
       "  <thead>\n",
       "    <tr style=\"text-align: right;\">\n",
       "      <th></th>\n",
       "      <th>TimeStamp</th>\n",
       "      <th>RealPosition</th>\n",
       "      <th>Orientation</th>\n",
       "      <th>MAC_0</th>\n",
       "      <th>MAC_1</th>\n",
       "      <th>MAC_2</th>\n",
       "      <th>MAC_3</th>\n",
       "      <th>MAC_4</th>\n",
       "      <th>MAC_5</th>\n",
       "      <th>MAC_6</th>\n",
       "      <th>MAC_7</th>\n",
       "      <th>MAC_8</th>\n",
       "      <th>MAC_9</th>\n",
       "      <th>MAC_10</th>\n",
       "      <th>MAC_11</th>\n",
       "      <th>MAC_12</th>\n",
       "      <th>MAC_13</th>\n",
       "      <th>MAC_14</th>\n",
       "      <th>Angle</th>\n",
       "    </tr>\n",
       "  </thead>\n",
       "  <tbody>\n",
       "    <tr>\n",
       "      <th>0</th>\n",
       "      <td>1970-01-01 00:00:01.139692477</td>\n",
       "      <td>[0.0, 0.05]</td>\n",
       "      <td>130.5</td>\n",
       "      <td>{'00:14:bf:b1:97:8a': [[-43, 2437000000], 3]}</td>\n",
       "      <td>{'00:0f:a3:39:e1:c0': [[-52, 2462000000], 3]}</td>\n",
       "      <td>{'00:14:bf:3b:c7:c6': [[-62, 2432000000], 3]}</td>\n",
       "      <td>{'00:14:bf:b1:97:81': [[-58, 2422000000], 3]}</td>\n",
       "      <td>{'00:14:bf:b1:97:8d': [[-62, 2442000000], 3]}</td>\n",
       "      <td>{'00:14:bf:b1:97:90': [[-57, 2427000000], 3]}</td>\n",
       "      <td>{'00:0f:a3:39:dd:cd': [[-64, 2412000000], 3]}</td>\n",
       "      <td>None</td>\n",
       "      <td>None</td>\n",
       "      <td>None</td>\n",
       "      <td>None</td>\n",
       "      <td>None</td>\n",
       "      <td>None</td>\n",
       "      <td>None</td>\n",
       "      <td>None</td>\n",
       "      <td>135</td>\n",
       "    </tr>\n",
       "    <tr>\n",
       "      <th>1</th>\n",
       "      <td>1970-01-01 00:00:01.139692477</td>\n",
       "      <td>[0.0, 0.05]</td>\n",
       "      <td>130.5</td>\n",
       "      <td>{'00:14:bf:b1:97:8a': [[-43, 2437000000], 3]}</td>\n",
       "      <td>{'00:14:bf:b1:97:8a': [[-43, 2437000000], 3]}</td>\n",
       "      <td>{'00:0f:a3:39:e1:c0': [[-52, 2462000000], 3]}</td>\n",
       "      <td>{'00:14:bf:b1:97:90': [[-57, 2427000000], 3]}</td>\n",
       "      <td>{'00:14:bf:b1:97:8d': [[-64, 2442000000], 3]}</td>\n",
       "      <td>{'00:0f:a3:39:dd:cd': [[-62, 2412000000], 3]}</td>\n",
       "      <td>None</td>\n",
       "      <td>None</td>\n",
       "      <td>None</td>\n",
       "      <td>None</td>\n",
       "      <td>None</td>\n",
       "      <td>None</td>\n",
       "      <td>None</td>\n",
       "      <td>None</td>\n",
       "      <td>None</td>\n",
       "      <td>135</td>\n",
       "    </tr>\n",
       "    <tr>\n",
       "      <th>2</th>\n",
       "      <td>1970-01-01 00:00:01.139692477</td>\n",
       "      <td>[0.0, 0.05]</td>\n",
       "      <td>130.5</td>\n",
       "      <td>{'00:0f:a3:39:e1:c0': [[-51, 2462000000], 3]}</td>\n",
       "      <td>{'00:14:bf:b1:97:90': [[-49, 2427000000], 3]}</td>\n",
       "      <td>{'00:14:bf:3b:c7:c6': [[-62, 2432000000], 3]}</td>\n",
       "      <td>{'00:14:bf:b1:97:8a': [[-44, 2437000000], 3]}</td>\n",
       "      <td>{'00:14:bf:b1:97:81': [[-68, 2422000000], 3]}</td>\n",
       "      <td>{'00:0f:a3:39:dd:cd': [[-66, 2412000000], 3]}</td>\n",
       "      <td>None</td>\n",
       "      <td>None</td>\n",
       "      <td>None</td>\n",
       "      <td>None</td>\n",
       "      <td>None</td>\n",
       "      <td>None</td>\n",
       "      <td>None</td>\n",
       "      <td>None</td>\n",
       "      <td>None</td>\n",
       "      <td>135</td>\n",
       "    </tr>\n",
       "    <tr>\n",
       "      <th>3</th>\n",
       "      <td>1970-01-01 00:00:01.139692478</td>\n",
       "      <td>[0.0, 0.05]</td>\n",
       "      <td>130.5</td>\n",
       "      <td>{'00:0f:a3:39:e1:c0': [[-52, 2462000000], 3]}</td>\n",
       "      <td>{'00:14:bf:b1:97:90': [[-58, 2427000000], 3]}</td>\n",
       "      <td>{'00:14:bf:b1:97:8a': [[-39, 2437000000], 3]}</td>\n",
       "      <td>{'00:14:bf:b1:97:8d': [[-63, 2442000000], 3]}</td>\n",
       "      <td>{'00:0f:a3:39:dd:cd': [[-66, 2412000000], 3]}</td>\n",
       "      <td>{'00:14:bf:3b:c7:c6': [[-68, 2432000000], 3]}</td>\n",
       "      <td>None</td>\n",
       "      <td>None</td>\n",
       "      <td>None</td>\n",
       "      <td>None</td>\n",
       "      <td>None</td>\n",
       "      <td>None</td>\n",
       "      <td>None</td>\n",
       "      <td>None</td>\n",
       "      <td>None</td>\n",
       "      <td>135</td>\n",
       "    </tr>\n",
       "    <tr>\n",
       "      <th>4</th>\n",
       "      <td>1970-01-01 00:00:01.139692478</td>\n",
       "      <td>[0.0, 0.05]</td>\n",
       "      <td>130.5</td>\n",
       "      <td>{'00:14:bf:b1:97:8a': [[-42, 2437000000], 3]}</td>\n",
       "      <td>{'00:0f:a3:39:e1:c0': [[-51, 2462000000], 3]}</td>\n",
       "      <td>{'00:14:bf:b1:97:81': [[-60, 2422000000], 3]}</td>\n",
       "      <td>{'00:14:bf:3b:c7:c6': [[-59, 2432000000], 3]}</td>\n",
       "      <td>{'00:14:bf:b1:97:8d': [[-64, 2442000000], 3]}</td>\n",
       "      <td>{'00:0f:a3:39:dd:cd': [[-61, 2412000000], 3]}</td>\n",
       "      <td>None</td>\n",
       "      <td>None</td>\n",
       "      <td>None</td>\n",
       "      <td>None</td>\n",
       "      <td>None</td>\n",
       "      <td>None</td>\n",
       "      <td>None</td>\n",
       "      <td>None</td>\n",
       "      <td>None</td>\n",
       "      <td>135</td>\n",
       "    </tr>\n",
       "  </tbody>\n",
       "</table>\n",
       "</div>"
      ],
      "text/plain": [
       "                      TimeStamp RealPosition  Orientation  \\\n",
       "0 1970-01-01 00:00:01.139692477  [0.0, 0.05]        130.5   \n",
       "1 1970-01-01 00:00:01.139692477  [0.0, 0.05]        130.5   \n",
       "2 1970-01-01 00:00:01.139692477  [0.0, 0.05]        130.5   \n",
       "3 1970-01-01 00:00:01.139692478  [0.0, 0.05]        130.5   \n",
       "4 1970-01-01 00:00:01.139692478  [0.0, 0.05]        130.5   \n",
       "\n",
       "                                           MAC_0  \\\n",
       "0  {'00:14:bf:b1:97:8a': [[-43, 2437000000], 3]}   \n",
       "1  {'00:14:bf:b1:97:8a': [[-43, 2437000000], 3]}   \n",
       "2  {'00:0f:a3:39:e1:c0': [[-51, 2462000000], 3]}   \n",
       "3  {'00:0f:a3:39:e1:c0': [[-52, 2462000000], 3]}   \n",
       "4  {'00:14:bf:b1:97:8a': [[-42, 2437000000], 3]}   \n",
       "\n",
       "                                           MAC_1  \\\n",
       "0  {'00:0f:a3:39:e1:c0': [[-52, 2462000000], 3]}   \n",
       "1  {'00:14:bf:b1:97:8a': [[-43, 2437000000], 3]}   \n",
       "2  {'00:14:bf:b1:97:90': [[-49, 2427000000], 3]}   \n",
       "3  {'00:14:bf:b1:97:90': [[-58, 2427000000], 3]}   \n",
       "4  {'00:0f:a3:39:e1:c0': [[-51, 2462000000], 3]}   \n",
       "\n",
       "                                           MAC_2  \\\n",
       "0  {'00:14:bf:3b:c7:c6': [[-62, 2432000000], 3]}   \n",
       "1  {'00:0f:a3:39:e1:c0': [[-52, 2462000000], 3]}   \n",
       "2  {'00:14:bf:3b:c7:c6': [[-62, 2432000000], 3]}   \n",
       "3  {'00:14:bf:b1:97:8a': [[-39, 2437000000], 3]}   \n",
       "4  {'00:14:bf:b1:97:81': [[-60, 2422000000], 3]}   \n",
       "\n",
       "                                           MAC_3  \\\n",
       "0  {'00:14:bf:b1:97:81': [[-58, 2422000000], 3]}   \n",
       "1  {'00:14:bf:b1:97:90': [[-57, 2427000000], 3]}   \n",
       "2  {'00:14:bf:b1:97:8a': [[-44, 2437000000], 3]}   \n",
       "3  {'00:14:bf:b1:97:8d': [[-63, 2442000000], 3]}   \n",
       "4  {'00:14:bf:3b:c7:c6': [[-59, 2432000000], 3]}   \n",
       "\n",
       "                                           MAC_4  \\\n",
       "0  {'00:14:bf:b1:97:8d': [[-62, 2442000000], 3]}   \n",
       "1  {'00:14:bf:b1:97:8d': [[-64, 2442000000], 3]}   \n",
       "2  {'00:14:bf:b1:97:81': [[-68, 2422000000], 3]}   \n",
       "3  {'00:0f:a3:39:dd:cd': [[-66, 2412000000], 3]}   \n",
       "4  {'00:14:bf:b1:97:8d': [[-64, 2442000000], 3]}   \n",
       "\n",
       "                                           MAC_5  \\\n",
       "0  {'00:14:bf:b1:97:90': [[-57, 2427000000], 3]}   \n",
       "1  {'00:0f:a3:39:dd:cd': [[-62, 2412000000], 3]}   \n",
       "2  {'00:0f:a3:39:dd:cd': [[-66, 2412000000], 3]}   \n",
       "3  {'00:14:bf:3b:c7:c6': [[-68, 2432000000], 3]}   \n",
       "4  {'00:0f:a3:39:dd:cd': [[-61, 2412000000], 3]}   \n",
       "\n",
       "                                           MAC_6 MAC_7 MAC_8 MAC_9 MAC_10  \\\n",
       "0  {'00:0f:a3:39:dd:cd': [[-64, 2412000000], 3]}  None  None  None   None   \n",
       "1                                           None  None  None  None   None   \n",
       "2                                           None  None  None  None   None   \n",
       "3                                           None  None  None  None   None   \n",
       "4                                           None  None  None  None   None   \n",
       "\n",
       "  MAC_11 MAC_12 MAC_13 MAC_14  Angle  \n",
       "0   None   None   None   None    135  \n",
       "1   None   None   None   None    135  \n",
       "2   None   None   None   None    135  \n",
       "3   None   None   None   None    135  \n",
       "4   None   None   None   None    135  "
      ]
     },
     "execution_count": 22,
     "metadata": {},
     "output_type": "execute_result"
    }
   ],
   "source": [
    "online.head()"
   ]
  },
  {
   "cell_type": "code",
   "execution_count": 30,
   "metadata": {},
   "outputs": [
    {
     "data": {
      "text/plain": [
       "['t=1139643118358',\n",
       " 'id=00:02:2D:21:0F:33',\n",
       " 'pos=0.0,0.0,0.0',\n",
       " 'degree=0.0',\n",
       " '00:14:bf:b1:97:8a=-38,2437000000,3',\n",
       " '00:14:bf:b1:97:90=-56,2427000000,3',\n",
       " '00:0f:a3:39:e1:c0=-53,2462000000,3',\n",
       " '00:14:bf:b1:97:8d=-65,2442000000,3',\n",
       " '00:14:bf:b1:97:81=-65,2422000000,3',\n",
       " '00:14:bf:3b:c7:c6=-66,2432000000,3',\n",
       " '00:0f:a3:39:dd:cd=-75,2412000000,3']"
      ]
     },
     "execution_count": 30,
     "metadata": {},
     "output_type": "execute_result"
    }
   ],
   "source": [
    "offdata[0]"
   ]
  },
  {
   "cell_type": "code",
   "execution_count": 34,
   "metadata": {},
   "outputs": [
    {
     "data": {
      "text/plain": [
       "{'00:0f:a3:39:dd:cd',\n",
       " '00:0f:a3:39:e1:c0',\n",
       " '00:14:bf:3b:c7:c6',\n",
       " '00:14:bf:b1:97:81',\n",
       " '00:14:bf:b1:97:8a',\n",
       " '00:14:bf:b1:97:8d',\n",
       " '00:14:bf:b1:97:90'}"
      ]
     },
     "execution_count": 34,
     "metadata": {},
     "output_type": "execute_result"
    }
   ],
   "source": [
    "macs"
   ]
  },
  {
   "cell_type": "code",
   "execution_count": null,
   "metadata": {},
   "outputs": [],
   "source": []
  }
 ],
 "metadata": {
  "kernelspec": {
   "display_name": "Python 3",
   "language": "python",
   "name": "python3"
  },
  "language_info": {
   "codemirror_mode": {
    "name": "ipython",
    "version": 3
   },
   "file_extension": ".py",
   "mimetype": "text/x-python",
   "name": "python",
   "nbconvert_exporter": "python",
   "pygments_lexer": "ipython3",
   "version": "3.7.1"
  }
 },
 "nbformat": 4,
 "nbformat_minor": 2
}
