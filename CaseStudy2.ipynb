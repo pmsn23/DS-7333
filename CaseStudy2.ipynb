{
 "cells": [
  {
   "cell_type": "code",
   "execution_count": 134,
   "metadata": {},
   "outputs": [],
   "source": [
    "import pandas as pd\n",
    "import requests\n",
    "import numpy as np\n",
    "import datetime\n",
    "import seaborn as sns\n",
    "import matplotlib.pyplot as plt"
   ]
  },
  {
   "cell_type": "code",
   "execution_count": 94,
   "metadata": {},
   "outputs": [],
   "source": [
    "offdata = requests.get('http://rdatasciencecases.org/Data/offline.final.trace.txt')\n",
    "ondata = requests.get('http://rdatasciencecases.org/Data/online.final.trace.txt')"
   ]
  },
  {
   "cell_type": "code",
   "execution_count": 99,
   "metadata": {},
   "outputs": [],
   "source": [
    "def eda_trace(data):\n",
    "    \n",
    "    data = data.text.split('\\n')\n",
    "    data = list(filter(lambda m: (not m.startswith('#')) and (not len(m) == 0), data))\n",
    "    data = [row.split(';') for row in data]\n",
    "    \n",
    "    mac_keep = eda_MAC(data)\n",
    "    print(mac_keep)\n",
    "    mac = [val for (val, key) in mac_keep]\n",
    "    # Keep only the top7 mac address and remove the rest.\n",
    "    count=0\n",
    "    for row in data:\n",
    "        for macId in row[4:]:\n",
    "            macs = macId.split(\"=\")[0]\n",
    "            if macs in mac:\n",
    "                continue\n",
    "            else:\n",
    "                data[count].remove(macId)\n",
    "        count += 1\n",
    "    \n",
    "    df = pd.DataFrame(data)\n",
    "    \n",
    "    #cols = [m.split(\"=\")[0] for m in df.iloc[1][:4].values]\n",
    "    mac_names = ['MAC_'+str(m) for m in range(len(df.iloc[1][4:].values))]\n",
    "    cols = [\"TimeStamp\", \"MACofScanDevice\", \"RealPosition\",\"Orientation\"]\n",
    "    col_names = cols + mac_names\n",
    "    \n",
    "    cols = dict(list(zip(df.columns.values, col_names)))\n",
    "    df.rename(columns=cols, inplace=True)\n",
    "    \n",
    "    df[\"TimeStamp\"] = df[\"TimeStamp\"].map(lambda x: x.lstrip('t='))\n",
    "    df[\"MACofScanDevice\"] = df[\"MACofScanDevice\"].map(lambda x: x.lstrip('id='))\n",
    "    df[\"RealPosition\"] = df[\"RealPosition\"].map(lambda x: x.lstrip('pos='))\n",
    "    df[\"Orientation\"] = df[\"Orientation\"].map(lambda x: x.lstrip('degree='))\n",
    "    \n",
    "    df['Orientation'] = pd.to_numeric(df.Orientation, errors='coerce', downcast='float')\n",
    "    df['TimeStamp'] = df['TimeStamp'].astype(int)\n",
    "    df[\"TimeStamp\"] = df[\"TimeStamp\"]/1000\n",
    "    df['TimeStamp'] = df['TimeStamp'].astype('datetime64[ns]')\n",
    "    \n",
    "    # Create list of position x, y & z.\n",
    "    p = {}\n",
    "    for i, j in enumerate(df.RealPosition.values):\n",
    "        if j != None:\n",
    "            temp = j.split(\",\")\n",
    "            p[i] = [float(y) for y in temp]\n",
    "        else:\n",
    "            p[i] = None\n",
    "\n",
    "    pos = pd.Series(p)\n",
    "    df['RealPosition'] = pos\n",
    "    \n",
    "    # Create MAC Dictionary with Signal, Channel and Type.\n",
    "    for col in df.iloc[:,4:].columns:\n",
    "        m = {}\n",
    "        colString = '{}'.format(col)\n",
    "        for i, j in enumerate(df[colString].values):\n",
    "            if j != None:\n",
    "                temp = j.split(\"=\")\n",
    "                macId = temp[0]\n",
    "                coords = [int(y) for y in temp[1].split(\",\")]\n",
    "                # we drop all records for adhoc measurements and remove the type variable from our data frame\n",
    "                # Refer Data Science in R by Deborah Nolan & Duncan Temple Lang\n",
    "                if (coords[-1] == 3):\n",
    "                    m[i] = {macId: [coords[:2], coords[-1]]}\n",
    "                else:\n",
    "                    m[i] = None\n",
    "            else:\n",
    "                m[i] = None\n",
    "    \n",
    "        df[colString] = pd.Series(m)\n",
    "    \n",
    "    df[\"MACofScanDevice\"] = df[\"MACofScanDevice\"].astype('category')\n",
    "    # There is only one hand-held device used to take the measurement, can be discarded from the dataframe\n",
    "    pd.value_counts(df[\"MACofScanDevice\"].values, sort=False)\n",
    "\n",
    "    df = df.drop(['MACofScanDevice'], axis=1)\n",
    "    \n",
    "    df['Angle'] = df.apply (lambda row: label_angle(row), axis=1)\n",
    "    \n",
    "    # Angle z is zero since all the measurement are from ground\n",
    "    for key, val in enumerate(df[\"RealPosition\"]):\n",
    "        del val[2]\n",
    "        \n",
    "    return data, df"
   ]
  },
  {
   "cell_type": "code",
   "execution_count": 100,
   "metadata": {},
   "outputs": [],
   "source": [
    "def eda_MAC (data):\n",
    "    macs = set(mac.split('=')[0].lower() for row in data for mac in row[4:])\n",
    "    print('There are %d unique MACs in the dataset' % len(macs))\n",
    "    mac_counts = []\n",
    "    for mac in macs:\n",
    "        count = 0\n",
    "        for row in data:\n",
    "            for macId in row[4:]:\n",
    "                macId = macId.split(\"=\")[0]\n",
    "                if mac in macId:\n",
    "                    count += 1\n",
    "        mac_counts.append((mac, count))\n",
    "    \n",
    "    mac_counts = sorted(mac_counts, key=lambda x: x[1], reverse=True)\n",
    "    mac_keep = mac_counts[:7]\n",
    "    return mac_keep"
   ]
  },
  {
   "cell_type": "markdown",
   "metadata": {},
   "source": [
    "There are 21 MAC address where as from the document there are only 6 access points. It could be due to the points are not part of the testing area.\n",
    "\n",
    "There are potential signals recorded at 166 grid points, 8 orientations and 110 replications (166x8x110 = 146080). \n",
    "\n",
    "Clearly the last six MAC addresses are not near the testing area or were only working/active for a short time during the measurement process because their counts are very low. \n",
    "\n",
    "We have decided to keep the top 7 devices. Note: Mac address with 103887 recording starts with 02. Decided not to include for our analysis based on the findings from text book"
   ]
  },
  {
   "cell_type": "code",
   "execution_count": 101,
   "metadata": {},
   "outputs": [],
   "source": [
    "def label_angle (row):\n",
    "    if row['Orientation'] <= 45 :\n",
    "        return 45\n",
    "    if row['Orientation'] >45 and row['Orientation'] <=90 :\n",
    "        return 90\n",
    "    if row['Orientation'] >90 and row['Orientation'] <=135 :\n",
    "        return 135\n",
    "    if row['Orientation'] >135 and row['Orientation'] <=180 :\n",
    "        return 180\n",
    "    if row['Orientation'] >180 and row['Orientation'] <=225 :\n",
    "        return 225\n",
    "    if row['Orientation'] >225 and row['Orientation'] <=270 :\n",
    "        return 270\n",
    "    if row['Orientation'] >270 and row['Orientation'] <=315 :\n",
    "        return 315\n",
    "    if row['Orientation'] >315 :\n",
    "        return 360\n",
    "    return 45"
   ]
  },
  {
   "cell_type": "code",
   "execution_count": 102,
   "metadata": {},
   "outputs": [
    {
     "name": "stdout",
     "output_type": "stream",
     "text": [
      "There are 21 unique MACs in the dataset\n",
      "There are 14 unique MACs in the dataset\n"
     ]
    }
   ],
   "source": [
    "offdata, offline = eda_trace(offdata)\n",
    "ondata, online = eda_trace(ondata)"
   ]
  },
  {
   "cell_type": "code",
   "execution_count": 103,
   "metadata": {},
   "outputs": [
    {
     "data": {
      "text/html": [
       "<div>\n",
       "<style scoped>\n",
       "    .dataframe tbody tr th:only-of-type {\n",
       "        vertical-align: middle;\n",
       "    }\n",
       "\n",
       "    .dataframe tbody tr th {\n",
       "        vertical-align: top;\n",
       "    }\n",
       "\n",
       "    .dataframe thead th {\n",
       "        text-align: right;\n",
       "    }\n",
       "</style>\n",
       "<table border=\"1\" class=\"dataframe\">\n",
       "  <thead>\n",
       "    <tr style=\"text-align: right;\">\n",
       "      <th></th>\n",
       "      <th>TimeStamp</th>\n",
       "      <th>RealPosition</th>\n",
       "      <th>Orientation</th>\n",
       "      <th>MAC_0</th>\n",
       "      <th>MAC_1</th>\n",
       "      <th>MAC_2</th>\n",
       "      <th>MAC_3</th>\n",
       "      <th>MAC_4</th>\n",
       "      <th>MAC_5</th>\n",
       "      <th>MAC_6</th>\n",
       "      <th>MAC_7</th>\n",
       "      <th>MAC_8</th>\n",
       "      <th>MAC_9</th>\n",
       "      <th>MAC_10</th>\n",
       "      <th>MAC_11</th>\n",
       "      <th>MAC_12</th>\n",
       "      <th>MAC_13</th>\n",
       "      <th>Angle</th>\n",
       "    </tr>\n",
       "  </thead>\n",
       "  <tbody>\n",
       "    <tr>\n",
       "      <th>146075</th>\n",
       "      <td>1970-01-01 00:00:01.141936869</td>\n",
       "      <td>[20.0, 8.0, 0.0]</td>\n",
       "      <td>315.700012</td>\n",
       "      <td>{'00:0f:a3:39:e1:c0': [[-51, 2462000000], 3]}</td>\n",
       "      <td>{'00:14:bf:b1:97:8d': [[-56, 2442000000], 3]}</td>\n",
       "      <td>{'00:14:bf:b1:97:8a': [[-60, 2437000000], 3]}</td>\n",
       "      <td>{'00:14:bf:b1:97:90': [[-69, 2427000000], 3]}</td>\n",
       "      <td>{'00:0f:a3:39:dd:cd': [[-76, 2412000000], 3]}</td>\n",
       "      <td>None</td>\n",
       "      <td>None</td>\n",
       "      <td>None</td>\n",
       "      <td>None</td>\n",
       "      <td>None</td>\n",
       "      <td>None</td>\n",
       "      <td>None</td>\n",
       "      <td>None</td>\n",
       "      <td>None</td>\n",
       "      <td>360</td>\n",
       "    </tr>\n",
       "    <tr>\n",
       "      <th>146076</th>\n",
       "      <td>1970-01-01 00:00:01.141936869</td>\n",
       "      <td>[20.0, 8.0, 0.0]</td>\n",
       "      <td>315.700012</td>\n",
       "      <td>{'00:0f:a3:39:e1:c0': [[-53, 2462000000], 3]}</td>\n",
       "      <td>{'00:14:bf:3b:c7:c6': [[-52, 2432000000], 3]}</td>\n",
       "      <td>{'00:14:bf:b1:97:8d': [[-62, 2442000000], 3]}</td>\n",
       "      <td>{'00:14:bf:b1:97:81': [[-58, 2422000000], 3]}</td>\n",
       "      <td>{'00:14:bf:b1:97:8a': [[-61, 2437000000], 3]}</td>\n",
       "      <td>{'00:0f:a3:39:dd:cd': [[-77, 2412000000], 3]}</td>\n",
       "      <td>None</td>\n",
       "      <td>None</td>\n",
       "      <td>None</td>\n",
       "      <td>None</td>\n",
       "      <td>None</td>\n",
       "      <td>None</td>\n",
       "      <td>None</td>\n",
       "      <td>None</td>\n",
       "      <td>360</td>\n",
       "    </tr>\n",
       "    <tr>\n",
       "      <th>146077</th>\n",
       "      <td>1970-01-01 00:00:01.141936869</td>\n",
       "      <td>[20.0, 8.0, 0.0]</td>\n",
       "      <td>315.700012</td>\n",
       "      <td>{'00:0f:a3:39:e1:c0': [[-54, 2462000000], 3]}</td>\n",
       "      <td>{'00:14:bf:3b:c7:c6': [[-58, 2432000000], 3]}</td>\n",
       "      <td>{'00:14:bf:b1:97:8d': [[-56, 2442000000], 3]}</td>\n",
       "      <td>{'00:14:bf:b1:97:8a': [[-60, 2437000000], 3]}</td>\n",
       "      <td>{'00:14:bf:b1:97:90': [[-69, 2427000000], 3]}</td>\n",
       "      <td>{'00:0f:a3:39:dd:cd': [[-77, 2412000000], 3]}</td>\n",
       "      <td>{'00:14:bf:b1:97:81': [[-62, 2422000000], 3]}</td>\n",
       "      <td>None</td>\n",
       "      <td>None</td>\n",
       "      <td>None</td>\n",
       "      <td>None</td>\n",
       "      <td>None</td>\n",
       "      <td>None</td>\n",
       "      <td>None</td>\n",
       "      <td>360</td>\n",
       "    </tr>\n",
       "    <tr>\n",
       "      <th>146078</th>\n",
       "      <td>1970-01-01 00:00:01.141936870</td>\n",
       "      <td>[20.0, 8.0, 0.0]</td>\n",
       "      <td>315.700012</td>\n",
       "      <td>{'00:14:bf:3b:c7:c6': [[-51, 2432000000], 3]}</td>\n",
       "      <td>{'00:0f:a3:39:e1:c0': [[-53, 2462000000], 3]}</td>\n",
       "      <td>{'00:14:bf:b1:97:8a': [[-61, 2437000000], 3]}</td>\n",
       "      <td>{'00:14:bf:b1:97:81': [[-60, 2422000000], 3]}</td>\n",
       "      <td>{'00:14:bf:b1:97:8d': [[-62, 2442000000], 3]}</td>\n",
       "      <td>{'00:0f:a3:39:dd:cd': [[-77, 2412000000], 3]}</td>\n",
       "      <td>None</td>\n",
       "      <td>None</td>\n",
       "      <td>None</td>\n",
       "      <td>None</td>\n",
       "      <td>None</td>\n",
       "      <td>None</td>\n",
       "      <td>None</td>\n",
       "      <td>None</td>\n",
       "      <td>360</td>\n",
       "    </tr>\n",
       "    <tr>\n",
       "      <th>146079</th>\n",
       "      <td>1970-01-01 00:00:01.141936870</td>\n",
       "      <td>[20.0, 8.0, 0.0]</td>\n",
       "      <td>315.700012</td>\n",
       "      <td>{'00:14:bf:3b:c7:c6': [[-56, 2432000000], 3]}</td>\n",
       "      <td>{'00:0f:a3:39:e1:c0': [[-53, 2462000000], 3]}</td>\n",
       "      <td>{'00:14:bf:b1:97:8d': [[-61, 2442000000], 3]}</td>\n",
       "      <td>{'00:14:bf:b1:97:8a': [[-60, 2437000000], 3]}</td>\n",
       "      <td>{'00:14:bf:b1:97:81': [[-60, 2422000000], 3]}</td>\n",
       "      <td>{'00:14:bf:b1:97:90': [[-68, 2427000000], 3]}</td>\n",
       "      <td>{'00:0f:a3:39:dd:cd': [[-76, 2412000000], 3]}</td>\n",
       "      <td>None</td>\n",
       "      <td>None</td>\n",
       "      <td>None</td>\n",
       "      <td>None</td>\n",
       "      <td>None</td>\n",
       "      <td>None</td>\n",
       "      <td>None</td>\n",
       "      <td>360</td>\n",
       "    </tr>\n",
       "  </tbody>\n",
       "</table>\n",
       "</div>"
      ],
      "text/plain": [
       "                           TimeStamp      RealPosition  Orientation  \\\n",
       "146075 1970-01-01 00:00:01.141936869  [20.0, 8.0, 0.0]   315.700012   \n",
       "146076 1970-01-01 00:00:01.141936869  [20.0, 8.0, 0.0]   315.700012   \n",
       "146077 1970-01-01 00:00:01.141936869  [20.0, 8.0, 0.0]   315.700012   \n",
       "146078 1970-01-01 00:00:01.141936870  [20.0, 8.0, 0.0]   315.700012   \n",
       "146079 1970-01-01 00:00:01.141936870  [20.0, 8.0, 0.0]   315.700012   \n",
       "\n",
       "                                                MAC_0  \\\n",
       "146075  {'00:0f:a3:39:e1:c0': [[-51, 2462000000], 3]}   \n",
       "146076  {'00:0f:a3:39:e1:c0': [[-53, 2462000000], 3]}   \n",
       "146077  {'00:0f:a3:39:e1:c0': [[-54, 2462000000], 3]}   \n",
       "146078  {'00:14:bf:3b:c7:c6': [[-51, 2432000000], 3]}   \n",
       "146079  {'00:14:bf:3b:c7:c6': [[-56, 2432000000], 3]}   \n",
       "\n",
       "                                                MAC_1  \\\n",
       "146075  {'00:14:bf:b1:97:8d': [[-56, 2442000000], 3]}   \n",
       "146076  {'00:14:bf:3b:c7:c6': [[-52, 2432000000], 3]}   \n",
       "146077  {'00:14:bf:3b:c7:c6': [[-58, 2432000000], 3]}   \n",
       "146078  {'00:0f:a3:39:e1:c0': [[-53, 2462000000], 3]}   \n",
       "146079  {'00:0f:a3:39:e1:c0': [[-53, 2462000000], 3]}   \n",
       "\n",
       "                                                MAC_2  \\\n",
       "146075  {'00:14:bf:b1:97:8a': [[-60, 2437000000], 3]}   \n",
       "146076  {'00:14:bf:b1:97:8d': [[-62, 2442000000], 3]}   \n",
       "146077  {'00:14:bf:b1:97:8d': [[-56, 2442000000], 3]}   \n",
       "146078  {'00:14:bf:b1:97:8a': [[-61, 2437000000], 3]}   \n",
       "146079  {'00:14:bf:b1:97:8d': [[-61, 2442000000], 3]}   \n",
       "\n",
       "                                                MAC_3  \\\n",
       "146075  {'00:14:bf:b1:97:90': [[-69, 2427000000], 3]}   \n",
       "146076  {'00:14:bf:b1:97:81': [[-58, 2422000000], 3]}   \n",
       "146077  {'00:14:bf:b1:97:8a': [[-60, 2437000000], 3]}   \n",
       "146078  {'00:14:bf:b1:97:81': [[-60, 2422000000], 3]}   \n",
       "146079  {'00:14:bf:b1:97:8a': [[-60, 2437000000], 3]}   \n",
       "\n",
       "                                                MAC_4  \\\n",
       "146075  {'00:0f:a3:39:dd:cd': [[-76, 2412000000], 3]}   \n",
       "146076  {'00:14:bf:b1:97:8a': [[-61, 2437000000], 3]}   \n",
       "146077  {'00:14:bf:b1:97:90': [[-69, 2427000000], 3]}   \n",
       "146078  {'00:14:bf:b1:97:8d': [[-62, 2442000000], 3]}   \n",
       "146079  {'00:14:bf:b1:97:81': [[-60, 2422000000], 3]}   \n",
       "\n",
       "                                                MAC_5  \\\n",
       "146075                                           None   \n",
       "146076  {'00:0f:a3:39:dd:cd': [[-77, 2412000000], 3]}   \n",
       "146077  {'00:0f:a3:39:dd:cd': [[-77, 2412000000], 3]}   \n",
       "146078  {'00:0f:a3:39:dd:cd': [[-77, 2412000000], 3]}   \n",
       "146079  {'00:14:bf:b1:97:90': [[-68, 2427000000], 3]}   \n",
       "\n",
       "                                                MAC_6 MAC_7 MAC_8 MAC_9  \\\n",
       "146075                                           None  None  None  None   \n",
       "146076                                           None  None  None  None   \n",
       "146077  {'00:14:bf:b1:97:81': [[-62, 2422000000], 3]}  None  None  None   \n",
       "146078                                           None  None  None  None   \n",
       "146079  {'00:0f:a3:39:dd:cd': [[-76, 2412000000], 3]}  None  None  None   \n",
       "\n",
       "       MAC_10 MAC_11 MAC_12 MAC_13  Angle  \n",
       "146075   None   None   None   None    360  \n",
       "146076   None   None   None   None    360  \n",
       "146077   None   None   None   None    360  \n",
       "146078   None   None   None   None    360  \n",
       "146079   None   None   None   None    360  "
      ]
     },
     "execution_count": 103,
     "metadata": {},
     "output_type": "execute_result"
    }
   ],
   "source": [
    "offline.tail()"
   ]
  },
  {
   "cell_type": "code",
   "execution_count": 104,
   "metadata": {},
   "outputs": [
    {
     "name": "stdout",
     "output_type": "stream",
     "text": [
      "<class 'pandas.core.frame.DataFrame'>\n",
      "RangeIndex: 146080 entries, 0 to 146079\n",
      "Data columns (total 18 columns):\n",
      "TimeStamp       146080 non-null datetime64[ns]\n",
      "RealPosition    146080 non-null object\n",
      "Orientation     146080 non-null float32\n",
      "MAC_0           146074 non-null object\n",
      "MAC_1           146040 non-null object\n",
      "MAC_2           145991 non-null object\n",
      "MAC_3           145242 non-null object\n",
      "MAC_4           139301 non-null object\n",
      "MAC_5           115221 non-null object\n",
      "MAC_6           63091 non-null object\n",
      "MAC_7           11870 non-null object\n",
      "MAC_8           1775 non-null object\n",
      "MAC_9           291 non-null object\n",
      "MAC_10          44 non-null object\n",
      "MAC_11          7 non-null object\n",
      "MAC_12          3 non-null object\n",
      "MAC_13          1 non-null object\n",
      "Angle           146080 non-null int64\n",
      "dtypes: datetime64[ns](1), float32(1), int64(1), object(15)\n",
      "memory usage: 19.5+ MB\n"
     ]
    }
   ],
   "source": [
    "offline.info()"
   ]
  },
  {
   "cell_type": "code",
   "execution_count": 105,
   "metadata": {},
   "outputs": [
    {
     "name": "stdout",
     "output_type": "stream",
     "text": [
      "<class 'pandas.core.frame.DataFrame'>\n",
      "RangeIndex: 6592 entries, 0 to 6591\n",
      "Data columns (total 19 columns):\n",
      "TimeStamp       6592 non-null datetime64[ns]\n",
      "RealPosition    6592 non-null object\n",
      "Orientation     6592 non-null float32\n",
      "MAC_0           6592 non-null object\n",
      "MAC_1           6571 non-null object\n",
      "MAC_2           6570 non-null object\n",
      "MAC_3           6530 non-null object\n",
      "MAC_4           6266 non-null object\n",
      "MAC_5           5163 non-null object\n",
      "MAC_6           2897 non-null object\n",
      "MAC_7           676 non-null object\n",
      "MAC_8           92 non-null object\n",
      "MAC_9           13 non-null object\n",
      "MAC_10          2 non-null object\n",
      "MAC_11          1 non-null object\n",
      "MAC_12          1 non-null object\n",
      "MAC_13          1 non-null object\n",
      "MAC_14          1 non-null object\n",
      "Angle           6592 non-null int64\n",
      "dtypes: datetime64[ns](1), float32(1), int64(1), object(16)\n",
      "memory usage: 952.8+ KB\n"
     ]
    }
   ],
   "source": [
    "online.info()"
   ]
  },
  {
   "cell_type": "code",
   "execution_count": 106,
   "metadata": {},
   "outputs": [
    {
     "data": {
      "text/plain": [
       "<matplotlib.axes._subplots.AxesSubplot at 0x1a59153128>"
      ]
     },
     "execution_count": 106,
     "metadata": {},
     "output_type": "execute_result"
    },
    {
     "data": {
      "image/png": "[encoded data removed]",
      "text/plain": [
       "<Figure size 432x288 with 1 Axes>"
      ]
     },
     "metadata": {
      "needs_background": "light"
     },
     "output_type": "display_data"
    }
   ],
   "source": [
    "offline.Orientation.hist(cumulative=True, histtype='step', bins=10)"
   ]
  },
  {
   "cell_type": "code",
   "execution_count": 107,
   "metadata": {},
   "outputs": [
    {
     "data": {
      "text/plain": [
       "<matplotlib.axes._subplots.AxesSubplot at 0x1a8d582518>"
      ]
     },
     "execution_count": 107,
     "metadata": {},
     "output_type": "execute_result"
    },
    {
     "data": {
      "image/png": "[encoded data removed]",
      "text/plain": [
       "<Figure size 432x288 with 1 Axes>"
      ]
     },
     "metadata": {
      "needs_background": "light"
     },
     "output_type": "display_data"
    }
   ],
   "source": [
    "online.Orientation.hist(cumulative=True, histtype='step', bins=10)"
   ]
  },
  {
   "cell_type": "code",
   "execution_count": 108,
   "metadata": {},
   "outputs": [
    {
     "data": {
      "text/plain": [
       "135    19833\n",
       "270    16540\n",
       "45     20101\n",
       "180    16745\n",
       "315    18871\n",
       "90     17794\n",
       "225    19849\n",
       "360    16347\n",
       "dtype: int64"
      ]
     },
     "execution_count": 108,
     "metadata": {},
     "output_type": "execute_result"
    }
   ],
   "source": [
    "pd.value_counts(offline[\"Angle\"].values, sort=False)"
   ]
  },
  {
   "cell_type": "code",
   "execution_count": 109,
   "metadata": {},
   "outputs": [
    {
     "data": {
      "image/png": "[encoded data removed]",
      "text/plain": [
       "<Figure size 432x288 with 1 Axes>"
      ]
     },
     "metadata": {
      "needs_background": "light"
     },
     "output_type": "display_data"
    }
   ],
   "source": [
    "ax = sns.boxplot(x=\"Angle\", y=\"Orientation\", data=offline, palette=\"Set2\")"
   ]
  },
  {
   "cell_type": "code",
   "execution_count": 110,
   "metadata": {},
   "outputs": [
    {
     "data": {
      "image/png": "[encoded data removed]",
      "text/plain": [
       "<Figure size 432x288 with 1 Axes>"
      ]
     },
     "metadata": {
      "needs_background": "light"
     },
     "output_type": "display_data"
    }
   ],
   "source": [
    "ax = sns.boxplot(x=\"Angle\", y=\"Orientation\", data=online, palette=\"Set2\")"
   ]
  },
  {
   "cell_type": "code",
   "execution_count": 112,
   "metadata": {},
   "outputs": [
    {
     "name": "stdout",
     "output_type": "stream",
     "text": [
      "There are 7 unique MACs in the dataset\n"
     ]
    }
   ],
   "source": [
    "macs = set(mac.split('=')[0].lower() for row in offdata for mac in row[4:])\n",
    "print('There are %d unique MACs in the dataset' % len(macs))"
   ]
  },
  {
   "cell_type": "code",
   "execution_count": 113,
   "metadata": {},
   "outputs": [
    {
     "name": "stdout",
     "output_type": "stream",
     "text": [
      "There are 7 unique MACs in the dataset\n"
     ]
    }
   ],
   "source": [
    "mac_keep = eda_MAC(offdata)"
   ]
  },
  {
   "cell_type": "code",
   "execution_count": 114,
   "metadata": {},
   "outputs": [],
   "source": [
    "mac = [val for (val, key) in mac_keep]"
   ]
  },
  {
   "cell_type": "code",
   "execution_count": 115,
   "metadata": {},
   "outputs": [
    {
     "data": {
      "text/plain": [
       "['00:0f:a3:39:e1:c0',\n",
       " '00:0f:a3:39:dd:cd',\n",
       " '00:14:bf:b1:97:8a',\n",
       " '00:14:bf:3b:c7:c6',\n",
       " '00:14:bf:b1:97:90',\n",
       " '00:14:bf:b1:97:8d',\n",
       " '00:14:bf:b1:97:81']"
      ]
     },
     "execution_count": 115,
     "metadata": {},
     "output_type": "execute_result"
    }
   ],
   "source": [
    "mac"
   ]
  },
  {
   "cell_type": "code",
   "execution_count": 156,
   "metadata": {},
   "outputs": [
    {
     "data": {
      "text/plain": [
       "0         0.0\n",
       "1         0.0\n",
       "2         0.0\n",
       "3         0.0\n",
       "4         0.0\n",
       "5         0.0\n",
       "6         0.0\n",
       "7         0.0\n",
       "8         0.0\n",
       "9         0.0\n",
       "10        0.0\n",
       "11        0.0\n",
       "12        0.0\n",
       "13        0.0\n",
       "14        0.0\n",
       "15        0.0\n",
       "16        0.0\n",
       "17        0.0\n",
       "18        0.0\n",
       "19        0.0\n",
       "20        0.0\n",
       "21        0.0\n",
       "22        0.0\n",
       "23        0.0\n",
       "24        0.0\n",
       "25        0.0\n",
       "26        0.0\n",
       "27        0.0\n",
       "28        0.0\n",
       "29        0.0\n",
       "         ... \n",
       "146050    8.0\n",
       "146051    8.0\n",
       "146052    8.0\n",
       "146053    8.0\n",
       "146054    8.0\n",
       "146055    8.0\n",
       "146056    8.0\n",
       "146057    8.0\n",
       "146058    8.0\n",
       "146059    8.0\n",
       "146060    8.0\n",
       "146061    8.0\n",
       "146062    8.0\n",
       "146063    8.0\n",
       "146064    8.0\n",
       "146065    8.0\n",
       "146066    8.0\n",
       "146067    8.0\n",
       "146068    8.0\n",
       "146069    8.0\n",
       "146070    8.0\n",
       "146071    8.0\n",
       "146072    8.0\n",
       "146073    8.0\n",
       "146074    8.0\n",
       "146075    8.0\n",
       "146076    8.0\n",
       "146077    8.0\n",
       "146078    8.0\n",
       "146079    8.0\n",
       "Name: RealPosition, Length: 146080, dtype: float64"
      ]
     },
     "execution_count": 156,
     "metadata": {},
     "output_type": "execute_result"
    }
   ],
   "source": [
    "#offline.RealPosition.plot(kind='scatter')\n",
    "offline['RealPosition'].str[1]\n",
    "#for key, val in enumerate(offline[\"RealPosition\"]):\n",
    "#     plt.plot(val[0], val[1])"
   ]
  },
  {
   "cell_type": "code",
   "execution_count": null,
   "metadata": {},
   "outputs": [],
   "source": []
  }
 ],
 "metadata": {
  "kernelspec": {
   "display_name": "Python 3",
   "language": "python",
   "name": "python3"
  },
  "language_info": {
   "codemirror_mode": {
    "name": "ipython",
    "version": 3
   },
   "file_extension": ".py",
   "mimetype": "text/x-python",
   "name": "python",
   "nbconvert_exporter": "python",
   "pygments_lexer": "ipython3",
   "version": "3.7.3"
  }
 },
 "nbformat": 4,
 "nbformat_minor": 2
}
